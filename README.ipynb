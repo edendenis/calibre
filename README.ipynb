{
 "cells": [
  {
   "cell_type": "markdown",
   "metadata": {},
   "source": [
    "# Como instalar/configurar o `Calibre` no `Linux Ubuntu`\n",
    "\n",
    "## Resumo\n",
    "\n",
    "Neste documento estão contidos os principais comandos e configurações para configurar/instalar o `Calibre` no `Linux Ubuntu`.\n",
    "\n",
    "## _Abstract_\n",
    "\n",
    "_This document contains the main commands and settings for configuring/installing `Calibre` on `Linux Ubuntu`._"
   ]
  },
  {
   "cell_type": "markdown",
   "metadata": {},
   "source": [
    "## Descrição [2]\n",
    "\n",
    "`Calibre`\n",
    "\n",
    "O `Calibre` é uma aplicação de código aberto amplamente utilizada para gerenciar e organizar bibliotecas de __e-books__. Ele oferece uma plataforma abrangente para os entusiastas de leitura digital, permitindo que os usuários gerenciem sua coleção de __e-books__, convertam formatos de arquivo, sincronizem _e-books_ com dispositivos e leiam _e-books_ em uma interface intuitiva. O `Calibre` suporta uma variedade de formatos de _e-books_ e oferece recursos avançados, como edição de metadados, capas personalizadas, busca e classificação, tornando-o uma ferramenta essencial para aqueles que desejam organizar e desfrutar de sua coleção de _e-books_. Além disso, o `Calibre` é compatível com diversos dispositivos de leitura e pode ser usado para gerenciar _e-books_ em leitores de _e-books_, tablets e smartphones, tornando-se uma escolha popular entre os leitores digitais."
   ]
  },
  {
   "cell_type": "markdown",
   "metadata": {},
   "source": [
    "## 1. Configurar/Instalar/Usar o `Calibre` no `Linux Ubuntu` [1][3]\n",
    "\n",
    "Para configurar/instalar/usar o `Calibre` no `Linux Ubuntu`, você pode seguir estas etapas:\n",
    "\n",
    "1. Abra o `Terminal Emulator`. Você pode fazer isso pressionando: `Ctrl + Alt + T`"
   ]
  },
  {
   "cell_type": "markdown",
   "metadata": {},
   "source": [
    "2. Certifique-se de que seu sistema esteja limpo e atualizado.\n",
    "\n",
    "    2.1 Limpar o `cache` do gerenciador de pacotes `apt`. Especificamente, ele remove todos os arquivos de pacotes (`.deb`) baixados pelo `apt` e armazenados em `/var/cache/apt/archives/`. Digite o seguinte comando: `sudo apt clean` \n",
    "    \n",
    "    2.2 Remover pacotes `.deb` antigos ou duplicados do cache local. É útil para liberar espaço, pois remove apenas os pacotes que não podem mais ser baixados (ou seja, versões antigas de pacotes que foram atualizados). Digite o seguinte comando: `sudo apt autoclean`\n",
    "\n",
    "    2.3 Remover pacotes que foram automaticamente instalados para satisfazer as dependências de outros pacotes e que não são mais necessários. Digite o seguinte comando: `sudo apt autoremove -y`\n",
    "\n",
    "    2.4 Buscar as atualizações disponíveis para os pacotes que estão instalados em seu sistema. Digite o seguinte comando e pressione `Enter`: `sudo apt update`\n",
    "\n",
    "    2.5 **Corrigir pacotes quebrados**: Isso atualizará a lista de pacotes disponíveis e tentará corrigir pacotes quebrados ou com dependências ausentes: `sudo apt --fix-broken install`\n",
    "\n",
    "    2.6 Limpar o `cache` do gerenciador de pacotes `apt`. Especificamente, ele remove todos os arquivos de pacotes (`.deb`) baixados pelo `apt` e armazenados em `/var/cache/apt/archives/`. Digite o seguinte comando: `sudo apt clean` \n",
    "    \n",
    "    2.7 Para ver a lista de pacotes a serem atualizados, digite o seguinte comando e pressione `Enter`:  `sudo apt list --upgradable`\n",
    "\n",
    "    2.8 Realmente atualizar os pacotes instalados para as suas versões mais recentes, com base na última vez que você executou `sudo apt update`. Digite o seguinte comando e pressione `Enter`: `sudo apt full-upgrade -y`\n",
    "    "
   ]
  },
  {
   "cell_type": "markdown",
   "metadata": {},
   "source": [
    "Para instalar o `Calibre` no `Linux Ubuntu`, siga estes passos:\n",
    "\n",
    "1. **Abra o Whisker Menu** ou o menu de aplicativos.\n",
    "\n",
    "2. **Acesse o Gerenciador de Software:** procure por `Software` e abra o aplicativo correspondente.\n",
    "\n",
    "3. **Busque por `Calibre`:** pesquise por `Calibre` e selecione-o para instalar.\n",
    "\n",
    "4. **Instale o `Calibre`:** clique no botao de instalacao e aguarde a conclusao.\n",
    "\n",
    "5. **Acesse o `Calibre`:** apos a instalacao, abra o `Calibre` pelo menu ou digitando `calibre` no terminal.\n",
    "\n",
    "6. **Verifique a instalacao:** confirme que o `Calibre` esta funcionando.\n",
    "\n",
    "Após concluir esses passos, o `Calibre` estará pronto para uso.\n"
   ]
  },
  {
   "cell_type": "markdown",
   "metadata": {},
   "source": [
    "## 1.1 Código completo configurar/instalar/usar\n",
    "\n",
    "Para instalar o `Calibre` rapidamente via terminal, execute:\n",
    "\n",
    "```bash\n",
    "sudo apt update\n",
    "sudo apt install -y calibre\n",
    "```\n"
   ]
  },
  {
   "cell_type": "markdown",
   "metadata": {
    "vscode": {
     "languageId": "plaintext"
    }
   },
   "source": [
    "## Referências\n",
    "\n",
    "[1] OPENAI. ***Como instalar o calibre no Linux Ubuntu.*** Disponível em: <https://chat.openai.com/c/b640a25d-f8e3-4922-8a3b-ed74a2657e42> (texto adaptado). Acessado em: 06/12/2023 22:15.\n",
    "\n",
    "[2] OPENAI. ***Vs code: editor popular.*** Disponível em: <https://chat.openai.com/c/b640a25d-f8e3-4922-8a3b-ed74a2657e42> (texto adaptado). Acessado em: 04/11/2023 22:15.\n",
    "\n",
    "[3] OPENAI. ***Comandos de manutenção do ubuntu.*** Disponível em: <https://chat.openai.com/c/4a8cfaa2-30d6-474d-821f-7047a6a39830>. ChatGPT. Acessado em: 15/12/2023 08:25.\n"
   ]
  }
 ],
 "metadata": {
  "kernelspec": {
   "display_name": "Python 3",
   "language": "python",
   "name": "python3"
  },
  "language_info": {
   "codemirror_mode": {
    "name": "ipython",
    "version": 3
   },
   "file_extension": ".py",
   "mimetype": "text/x-python",
   "name": "python",
   "nbconvert_exporter": "python",
   "pygments_lexer": "ipython3",
   "version": "3.8.10"
  },
  "orig_nbformat": 4
 },
 "nbformat": 4,
 "nbformat_minor": 2
}